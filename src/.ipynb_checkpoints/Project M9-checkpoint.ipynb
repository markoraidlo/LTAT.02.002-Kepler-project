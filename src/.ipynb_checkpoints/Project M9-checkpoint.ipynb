{
 "cells": [
  {
   "cell_type": "markdown",
   "metadata": {},
   "source": [
    "# Project M9: Exoplanet detection using the transit method\n",
    "\n",
    "Marko Raidlo, Raidlo Everest"
   ]
  },
  {
   "cell_type": "code",
   "execution_count": 1,
   "metadata": {},
   "outputs": [],
   "source": [
    "#Plotting\n",
    "import matplotlib.pyplot as plt\n",
    "import seaborn as sns\n",
    "%matplotlib inline\n",
    "plt.rcParams['figure.figsize'] = (12, 6)\n",
    "plt.rcParams['figure.dpi'] = 1000\n",
    "plt.rcParams.update({'font.size': 30})\n",
    "\n",
    "\n",
    "import numpy as np\n",
    "import pandas as pd\n",
    "from scipy import ndimage, fft\n",
    "from sklearn.preprocessing import normalize, StandardScaler, MinMaxScaler\n",
    "\n",
    "from sklearn.linear_model import LogisticRegression\n",
    "from sklearn import svm\n",
    "from sklearn.neighbors import KNeighborsClassifier\n",
    "from sklearn.tree import DecisionTreeClassifier\n",
    "from sklearn.ensemble import RandomForestClassifier\n",
    "\n",
    "from sklearn.metrics import mean_squared_error\n",
    "from sklearn.metrics import roc_auc_score\n",
    "from sklearn.metrics import roc_curve\n",
    "from sklearn.metrics import accuracy_score, precision_score, recall_score, confusion_matrix"
   ]
  },
  {
   "cell_type": "markdown",
   "metadata": {},
   "source": [
    "## Loading in the datasets"
   ]
  },
  {
   "cell_type": "code",
   "execution_count": 2,
   "metadata": {},
   "outputs": [
    {
     "data": {
      "text/html": [
       "<div>\n",
       "<style scoped>\n",
       "    .dataframe tbody tr th:only-of-type {\n",
       "        vertical-align: middle;\n",
       "    }\n",
       "\n",
       "    .dataframe tbody tr th {\n",
       "        vertical-align: top;\n",
       "    }\n",
       "\n",
       "    .dataframe thead th {\n",
       "        text-align: right;\n",
       "    }\n",
       "</style>\n",
       "<table border=\"1\" class=\"dataframe\">\n",
       "  <thead>\n",
       "    <tr style=\"text-align: right;\">\n",
       "      <th></th>\n",
       "      <th>1</th>\n",
       "      <th>2</th>\n",
       "      <th>3</th>\n",
       "      <th>4</th>\n",
       "      <th>5</th>\n",
       "      <th>6</th>\n",
       "      <th>7</th>\n",
       "      <th>8</th>\n",
       "      <th>9</th>\n",
       "      <th>10</th>\n",
       "      <th>...</th>\n",
       "      <th>3188</th>\n",
       "      <th>3189</th>\n",
       "      <th>3190</th>\n",
       "      <th>3191</th>\n",
       "      <th>3192</th>\n",
       "      <th>3193</th>\n",
       "      <th>3194</th>\n",
       "      <th>3195</th>\n",
       "      <th>3196</th>\n",
       "      <th>3197</th>\n",
       "    </tr>\n",
       "  </thead>\n",
       "  <tbody>\n",
       "    <tr>\n",
       "      <th>0</th>\n",
       "      <td>93.85</td>\n",
       "      <td>83.81</td>\n",
       "      <td>20.10</td>\n",
       "      <td>-26.98</td>\n",
       "      <td>-39.56</td>\n",
       "      <td>-124.71</td>\n",
       "      <td>-135.18</td>\n",
       "      <td>-96.27</td>\n",
       "      <td>-79.89</td>\n",
       "      <td>-160.17</td>\n",
       "      <td>...</td>\n",
       "      <td>-78.07</td>\n",
       "      <td>-102.15</td>\n",
       "      <td>-102.15</td>\n",
       "      <td>25.13</td>\n",
       "      <td>48.57</td>\n",
       "      <td>92.54</td>\n",
       "      <td>39.32</td>\n",
       "      <td>61.42</td>\n",
       "      <td>5.08</td>\n",
       "      <td>-39.54</td>\n",
       "    </tr>\n",
       "    <tr>\n",
       "      <th>1</th>\n",
       "      <td>-38.88</td>\n",
       "      <td>-33.83</td>\n",
       "      <td>-58.54</td>\n",
       "      <td>-40.09</td>\n",
       "      <td>-79.31</td>\n",
       "      <td>-72.81</td>\n",
       "      <td>-86.55</td>\n",
       "      <td>-85.33</td>\n",
       "      <td>-83.97</td>\n",
       "      <td>-73.38</td>\n",
       "      <td>...</td>\n",
       "      <td>-3.28</td>\n",
       "      <td>-32.21</td>\n",
       "      <td>-32.21</td>\n",
       "      <td>-24.89</td>\n",
       "      <td>-4.86</td>\n",
       "      <td>0.76</td>\n",
       "      <td>-11.70</td>\n",
       "      <td>6.46</td>\n",
       "      <td>16.00</td>\n",
       "      <td>19.93</td>\n",
       "    </tr>\n",
       "    <tr>\n",
       "      <th>2</th>\n",
       "      <td>532.64</td>\n",
       "      <td>535.92</td>\n",
       "      <td>513.73</td>\n",
       "      <td>496.92</td>\n",
       "      <td>456.45</td>\n",
       "      <td>466.00</td>\n",
       "      <td>464.50</td>\n",
       "      <td>486.39</td>\n",
       "      <td>436.56</td>\n",
       "      <td>484.39</td>\n",
       "      <td>...</td>\n",
       "      <td>-71.69</td>\n",
       "      <td>13.31</td>\n",
       "      <td>13.31</td>\n",
       "      <td>-29.89</td>\n",
       "      <td>-20.88</td>\n",
       "      <td>5.06</td>\n",
       "      <td>-11.80</td>\n",
       "      <td>-28.91</td>\n",
       "      <td>-70.02</td>\n",
       "      <td>-96.67</td>\n",
       "    </tr>\n",
       "    <tr>\n",
       "      <th>3</th>\n",
       "      <td>326.52</td>\n",
       "      <td>347.39</td>\n",
       "      <td>302.35</td>\n",
       "      <td>298.13</td>\n",
       "      <td>317.74</td>\n",
       "      <td>312.70</td>\n",
       "      <td>322.33</td>\n",
       "      <td>311.31</td>\n",
       "      <td>312.42</td>\n",
       "      <td>323.33</td>\n",
       "      <td>...</td>\n",
       "      <td>5.71</td>\n",
       "      <td>-3.73</td>\n",
       "      <td>-3.73</td>\n",
       "      <td>30.05</td>\n",
       "      <td>20.03</td>\n",
       "      <td>-12.67</td>\n",
       "      <td>-8.77</td>\n",
       "      <td>-17.31</td>\n",
       "      <td>-17.35</td>\n",
       "      <td>13.98</td>\n",
       "    </tr>\n",
       "    <tr>\n",
       "      <th>4</th>\n",
       "      <td>-1107.21</td>\n",
       "      <td>-1112.59</td>\n",
       "      <td>-1118.95</td>\n",
       "      <td>-1095.10</td>\n",
       "      <td>-1057.55</td>\n",
       "      <td>-1034.48</td>\n",
       "      <td>-998.34</td>\n",
       "      <td>-1022.71</td>\n",
       "      <td>-989.57</td>\n",
       "      <td>-970.88</td>\n",
       "      <td>...</td>\n",
       "      <td>-594.37</td>\n",
       "      <td>-401.66</td>\n",
       "      <td>-401.66</td>\n",
       "      <td>-357.24</td>\n",
       "      <td>-443.76</td>\n",
       "      <td>-438.54</td>\n",
       "      <td>-399.71</td>\n",
       "      <td>-384.65</td>\n",
       "      <td>-411.79</td>\n",
       "      <td>-510.54</td>\n",
       "    </tr>\n",
       "  </tbody>\n",
       "</table>\n",
       "<p>5 rows × 3197 columns</p>\n",
       "</div>"
      ],
      "text/plain": [
       "         1        2        3        4        5        6       7        8  \\\n",
       "0    93.85    83.81    20.10   -26.98   -39.56  -124.71 -135.18   -96.27   \n",
       "1   -38.88   -33.83   -58.54   -40.09   -79.31   -72.81  -86.55   -85.33   \n",
       "2   532.64   535.92   513.73   496.92   456.45   466.00  464.50   486.39   \n",
       "3   326.52   347.39   302.35   298.13   317.74   312.70  322.33   311.31   \n",
       "4 -1107.21 -1112.59 -1118.95 -1095.10 -1057.55 -1034.48 -998.34 -1022.71   \n",
       "\n",
       "        9      10  ...    3188    3189    3190    3191    3192    3193  \\\n",
       "0  -79.89 -160.17  ...  -78.07 -102.15 -102.15   25.13   48.57   92.54   \n",
       "1  -83.97  -73.38  ...   -3.28  -32.21  -32.21  -24.89   -4.86    0.76   \n",
       "2  436.56  484.39  ...  -71.69   13.31   13.31  -29.89  -20.88    5.06   \n",
       "3  312.42  323.33  ...    5.71   -3.73   -3.73   30.05   20.03  -12.67   \n",
       "4 -989.57 -970.88  ... -594.37 -401.66 -401.66 -357.24 -443.76 -438.54   \n",
       "\n",
       "     3194    3195    3196    3197  \n",
       "0   39.32   61.42    5.08  -39.54  \n",
       "1  -11.70    6.46   16.00   19.93  \n",
       "2  -11.80  -28.91  -70.02  -96.67  \n",
       "3   -8.77  -17.31  -17.35   13.98  \n",
       "4 -399.71 -384.65 -411.79 -510.54  \n",
       "\n",
       "[5 rows x 3197 columns]"
      ]
     },
     "execution_count": 2,
     "metadata": {},
     "output_type": "execute_result"
    }
   ],
   "source": [
    "train = pd.read_csv('exoTrain.csv')\n",
    "test = pd.read_csv('exoTest.csv')\n",
    "    \n",
    "train.columns = [train.columns[i].replace(\"FLUX.\", \"\") for i in range(len(train.columns))]\n",
    "test.columns = [test.columns[i].replace(\"FLUX.\", \"\") for i in range(len(test.columns))]\n",
    "    \n",
    "#Replacing 2s and 1s with 1s and 0s.\n",
    "train.LABEL = train.LABEL.replace(1, 0)\n",
    "train.LABEL = train.LABEL.replace(2, 1)\n",
    "test.LABEL = test.LABEL.replace(1, 0)\n",
    "test.LABEL = test.LABEL.replace(2, 1)\n",
    "    \n",
    "#X and Y datasets\n",
    "train_X = train.drop('LABEL', axis=1)\n",
    "train_Y = train[\"LABEL\"]\n",
    "\n",
    "test_X = test.drop('LABEL', axis=1)\n",
    "test_Y = test[\"LABEL\"]\n",
    "\n",
    "train_X.head()"
   ]
  },
  {
   "cell_type": "markdown",
   "metadata": {},
   "source": [
    "## Preprocessing"
   ]
  },
  {
   "cell_type": "code",
   "execution_count": 3,
   "metadata": {},
   "outputs": [],
   "source": [
    "def fourier(df):\n",
    "        return np.abs(fft(df, n=df.size))\n",
    "\n",
    "def pre_process(df):\n",
    "    #Preprocessing method applies:\n",
    "    # Fourier transform\n",
    "    # Normalization\n",
    "    # Gaussian filter\n",
    "    # Standardization\n",
    "    \n",
    "    #Fourier\n",
    "    df_copy = df.copy()\n",
    "    df_copy = df_copy.apply(fourier ,axis=1)\n",
    "    \n",
    "    df_copy = pd.DataFrame(df_copy.tolist())\n",
    "    df_copy  = df_copy.iloc[:,0:df_copy.shape[1]//2]\n",
    "    \n",
    "    # Normalize\n",
    "    df_copy = pd.DataFrame(normalize(df_copy))\n",
    "\n",
    "    # Gaussian filter to smooth out data\n",
    "    df_copy = ndimage.filters.gaussian_filter(df_copy, sigma=10)\n",
    "\n",
    "    # Standardize X data\n",
    "    std_scaler = StandardScaler()\n",
    "    df_copy = std_scaler.fit_transform(df_copy)\n",
    "    \n",
    "    return pd.DataFrame(df_copy)"
   ]
  },
  {
   "cell_type": "code",
   "execution_count": 4,
   "metadata": {},
   "outputs": [
    {
     "data": {
      "image/png": "[encoded data removed]",
      "text/plain": [
       "<Figure size 432x288 with 2 Axes>"
      ]
     },
     "metadata": {
      "needs_background": "light"
     },
     "output_type": "display_data"
    }
   ],
   "source": [
    "#Pre process plot\n",
    "\n",
    "plt.subplot(211)\n",
    "plt.title(\"Exoplanet\")\n",
    "train_X.iloc[1].plot()\n",
    "plt.ylabel(\"FLUX\")\n",
    "plt.subplot(212)\n",
    "plt.title(\"No exoplanet\")\n",
    "train_X.iloc[3213].plot()\n",
    "plt.ylabel(\"FLUX\")\n",
    "\n",
    "plt.subplots_adjust(hspace=0.5)\n",
    "plt.savefig('fig1.png', dpi = 1000)\n",
    "plt.show()"
   ]
  },
  {
   "cell_type": "code",
   "execution_count": 5,
   "metadata": {},
   "outputs": [],
   "source": [
    "# Processing data\n",
    "train_X = pre_process(train_X)\n",
    "test_X = pre_process(test_X)"
   ]
  },
  {
   "cell_type": "code",
   "execution_count": 6,
   "metadata": {},
   "outputs": [
    {
     "data": {
      "image/png": "[encoded data removed]",
      "text/plain": [
       "<Figure size 432x288 with 2 Axes>"
      ]
     },
     "metadata": {
      "needs_background": "light"
     },
     "output_type": "display_data"
    }
   ],
   "source": [
    "#Post process plot\n",
    "\n",
    "plt.subplot(211)\n",
    "plt.title(\"Exoplanet\")\n",
    "train_X.iloc[1].plot()\n",
    "plt.ylabel(\"Level\")\n",
    "plt.xlabel(\"Frequency\")\n",
    "plt.subplot(212)\n",
    "plt.title(\"No exoplanet\")\n",
    "train_X.iloc[3213].plot()\n",
    "plt.ylabel(\"Level\")\n",
    "plt.xlabel(\"Frequency\")\n",
    "\n",
    "plt.subplots_adjust(hspace=0.5)\n",
    "plt.savefig('fig2.png', dpi = 1000)\n",
    "plt.show()"
   ]
  },
  {
   "cell_type": "code",
   "execution_count": 7,
   "metadata": {},
   "outputs": [
    {
     "data": {
      "image/png": "[encoded data removed]",
      "text/plain": [
       "<Figure size 432x288 with 4 Axes>"
      ]
     },
     "metadata": {
      "needs_background": "light"
     },
     "output_type": "display_data"
    }
   ],
   "source": [
    "# Exoplanet star results\n",
    "plt.subplot(221)\n",
    "train_X.iloc[12].plot()\n",
    "plt.subplot(222)\n",
    "train_X.iloc[21].plot()\n",
    "plt.subplot(223)\n",
    "train_X.iloc[23].plot()\n",
    "plt.subplot(224)\n",
    "train_X.iloc[32].plot()\n",
    "\n",
    "\n",
    "plt.show()"
   ]
  },
  {
   "cell_type": "code",
   "execution_count": 8,
   "metadata": {},
   "outputs": [
    {
     "data": {
      "image/png": "[encoded data removed]",
      "text/plain": [
       "<Figure size 432x288 with 4 Axes>"
      ]
     },
     "metadata": {
      "needs_background": "light"
     },
     "output_type": "display_data"
    }
   ],
   "source": [
    "# Non exoplanet star results\n",
    "plt.subplot(221)\n",
    "train_X.iloc[1111].plot()\n",
    "plt.subplot(222)\n",
    "train_X.iloc[2231].plot()\n",
    "plt.subplot(223)\n",
    "train_X.iloc[4512].plot()\n",
    "plt.subplot(224)\n",
    "train_X.iloc[1233].plot()\n",
    "\n",
    "plt.show()"
   ]
  },
  {
   "cell_type": "markdown",
   "metadata": {},
   "source": [
    "## Building models"
   ]
  },
  {
   "cell_type": "code",
   "execution_count": 9,
   "metadata": {},
   "outputs": [],
   "source": [
    "\n"
   ]
  },
  {
   "cell_type": "code",
   "execution_count": 10,
   "metadata": {},
   "outputs": [],
   "source": [
    "#Evaluation method:\n",
    "\n",
    "def evaluate(model):\n",
    "    train_result =  model.predict(train_X)\n",
    "    test_result = model.predict(test_X)\n",
    "    confm_train = confusion_matrix(train_Y, train_result)\n",
    "    confm_test = confusion_matrix(test_Y, test_result)\n",
    "    \n",
    "    acc_train = accuracy_score(train_Y, train_result)\n",
    "    acc_test = accuracy_score(test_Y, test_result)\n",
    "    pre_train = precision_score(train_Y, train_result)\n",
    "    pre_test = precision_score(test_Y, test_result)\n",
    "    rec_train = recall_score(train_Y, train_result)\n",
    "    rec_test = recall_score(test_Y, test_result)\n",
    "    auc_train = roc_auc_score(train_Y, train_result)\n",
    "    auc_test = roc_auc_score(test_Y, test_result)\n",
    "    \n",
    "    print(\"------------------Evaluation------------------\")\n",
    "    print(\"On training set:\")\n",
    "    print(\"Accuracy:\", acc_train)\n",
    "    print(\"Precision:\", pre_train)\n",
    "    print(\"Recall:\", rec_train)\n",
    "    print(\"AUC score:\", auc_train)\n",
    "    print(\"Confusion matrix:\")\n",
    "    print(confm_train)\n",
    "    print(\"----------------------------------------------\")\n",
    "    print(\"On test set:\")\n",
    "    print(\"Accuracy:\", acc_test)\n",
    "    print(\"Precision:\", pre_test)\n",
    "    print(\"Recall:\", rec_test)\n",
    "    print(\"AUC score:\", auc_test)\n",
    "    print(\"Confusion matrix:\")\n",
    "    print(confm_test)\n",
    "    print(\"--------------End of valuation----------------\")"
   ]
  },
  {
   "cell_type": "markdown",
   "metadata": {},
   "source": [
    "### Logistic Regression"
   ]
  },
  {
   "cell_type": "code",
   "execution_count": 11,
   "metadata": {},
   "outputs": [
    {
     "name": "stderr",
     "output_type": "stream",
     "text": [
      "C:\\Users\\Marko\\Anaconda3\\lib\\site-packages\\sklearn\\linear_model\\logistic.py:432: FutureWarning: Default solver will be changed to 'lbfgs' in 0.22. Specify a solver to silence this warning.\n",
      "  FutureWarning)\n"
     ]
    },
    {
     "name": "stdout",
     "output_type": "stream",
     "text": [
      "------------------Evaluation------------------\n",
      "On training set:\n",
      "Accuracy: 1.0\n",
      "Precision: 1.0\n",
      "Recall: 1.0\n",
      "AUC score: 1.0\n",
      "Confusion matrix:\n",
      "[[5050    0]\n",
      " [   0   37]]\n",
      "----------------------------------------------\n",
      "On test set:\n",
      "Accuracy: 0.9912280701754386\n",
      "Precision: 0.5\n",
      "Recall: 1.0\n",
      "AUC score: 0.995575221238938\n",
      "Confusion matrix:\n",
      "[[560   5]\n",
      " [  0   5]]\n",
      "--------------End of valuation----------------\n"
     ]
    }
   ],
   "source": [
    "model_log = LogisticRegression()\n",
    "model_log.fit(train_X, train_Y)\n",
    "\n",
    "evaluate(model_log)"
   ]
  },
  {
   "cell_type": "markdown",
   "metadata": {},
   "source": [
    "### Support Vector Machine"
   ]
  },
  {
   "cell_type": "code",
   "execution_count": 12,
   "metadata": {},
   "outputs": [
    {
     "name": "stdout",
     "output_type": "stream",
     "text": [
      "------------------Evaluation------------------\n",
      "On training set:\n",
      "Accuracy: 1.0\n",
      "Precision: 1.0\n",
      "Recall: 1.0\n",
      "AUC score: 1.0\n",
      "Confusion matrix:\n",
      "[[5050    0]\n",
      " [   0   37]]\n",
      "----------------------------------------------\n",
      "On test set:\n",
      "Accuracy: 0.9842105263157894\n",
      "Precision: 0.35714285714285715\n",
      "Recall: 1.0\n",
      "AUC score: 0.9920353982300886\n",
      "Confusion matrix:\n",
      "[[556   9]\n",
      " [  0   5]]\n",
      "--------------End of valuation----------------\n"
     ]
    },
    {
     "name": "stderr",
     "output_type": "stream",
     "text": [
      "C:\\Users\\Marko\\Anaconda3\\lib\\site-packages\\sklearn\\svm\\base.py:929: ConvergenceWarning: Liblinear failed to converge, increase the number of iterations.\n",
      "  \"the number of iterations.\", ConvergenceWarning)\n"
     ]
    }
   ],
   "source": [
    "model_svm = svm.LinearSVC()\n",
    "model_svm.fit(train_X, train_Y)\n",
    "evaluate(model_svm)"
   ]
  },
  {
   "cell_type": "markdown",
   "metadata": {},
   "source": [
    "### K Nearest Neighbours"
   ]
  },
  {
   "cell_type": "code",
   "execution_count": 13,
   "metadata": {},
   "outputs": [
    {
     "name": "stdout",
     "output_type": "stream",
     "text": [
      "------------------Evaluation------------------\n",
      "On training set:\n",
      "Accuracy: 1.0\n",
      "Precision: 1.0\n",
      "Recall: 1.0\n",
      "AUC score: 1.0\n",
      "Confusion matrix:\n",
      "[[5050    0]\n",
      " [   0   37]]\n",
      "----------------------------------------------\n",
      "On test set:\n",
      "Accuracy: 0.9912280701754386\n",
      "Precision: 0.0\n",
      "Recall: 0.0\n",
      "AUC score: 0.5\n",
      "Confusion matrix:\n",
      "[[565   0]\n",
      " [  5   0]]\n",
      "--------------End of valuation----------------\n"
     ]
    },
    {
     "name": "stderr",
     "output_type": "stream",
     "text": [
      "C:\\Users\\Marko\\Anaconda3\\lib\\site-packages\\sklearn\\metrics\\classification.py:1437: UndefinedMetricWarning: Precision is ill-defined and being set to 0.0 due to no predicted samples.\n",
      "  'precision', 'predicted', average, warn_for)\n"
     ]
    }
   ],
   "source": [
    "model_knn = KNeighborsClassifier(n_neighbors = 9, weights = 'distance')\n",
    "model_knn.fit(train_X, train_Y)\n",
    "\n",
    "evaluate(model_knn)"
   ]
  },
  {
   "cell_type": "markdown",
   "metadata": {},
   "source": [
    "### Decision tree"
   ]
  },
  {
   "cell_type": "code",
   "execution_count": 14,
   "metadata": {},
   "outputs": [
    {
     "name": "stdout",
     "output_type": "stream",
     "text": [
      "------------------Evaluation------------------\n",
      "On training set:\n",
      "Accuracy: 1.0\n",
      "Precision: 1.0\n",
      "Recall: 1.0\n",
      "AUC score: 1.0\n",
      "Confusion matrix:\n",
      "[[5050    0]\n",
      " [   0   37]]\n",
      "----------------------------------------------\n",
      "On test set:\n",
      "Accuracy: 0.9982456140350877\n",
      "Precision: 0.8333333333333334\n",
      "Recall: 1.0\n",
      "AUC score: 0.9991150442477876\n",
      "Confusion matrix:\n",
      "[[564   1]\n",
      " [  0   5]]\n",
      "--------------End of valuation----------------\n"
     ]
    }
   ],
   "source": [
    "model_tree = DecisionTreeClassifier()\n",
    "model_tree.fit(train_X, train_Y)\n",
    "\n",
    "evaluate(model_tree)"
   ]
  },
  {
   "cell_type": "markdown",
   "metadata": {},
   "source": [
    "### Random forest"
   ]
  },
  {
   "cell_type": "code",
   "execution_count": 15,
   "metadata": {},
   "outputs": [
    {
     "name": "stdout",
     "output_type": "stream",
     "text": [
      "------------------Evaluation------------------\n",
      "On training set:\n",
      "Accuracy: 1.0\n",
      "Precision: 1.0\n",
      "Recall: 1.0\n",
      "AUC score: 1.0\n",
      "Confusion matrix:\n",
      "[[5050    0]\n",
      " [   0   37]]\n",
      "----------------------------------------------\n",
      "On test set:\n",
      "Accuracy: 1.0\n",
      "Precision: 1.0\n",
      "Recall: 1.0\n",
      "AUC score: 1.0\n",
      "Confusion matrix:\n",
      "[[565   0]\n",
      " [  0   5]]\n",
      "--------------End of valuation----------------\n"
     ]
    }
   ],
   "source": [
    "model_forest = RandomForestClassifier(n_estimators=5, max_depth=3, random_state=3)\n",
    "model_forest.fit(train_X, train_Y)\n",
    "\n",
    "evaluate(model_forest)"
   ]
  },
  {
   "cell_type": "markdown",
   "metadata": {},
   "source": [
    "### Clustering"
   ]
  },
  {
   "cell_type": "code",
   "execution_count": 16,
   "metadata": {},
   "outputs": [
    {
     "name": "stdout",
     "output_type": "stream",
     "text": [
      "------------------Evaluation------------------\n",
      "On training set:\n",
      "Accuracy: 1.0\n",
      "Precision: 1.0\n",
      "Recall: 1.0\n",
      "AUC score: 1.0\n",
      "Confusion matrix:\n",
      "[[5050    0]\n",
      " [   0   37]]\n",
      "----------------------------------------------\n",
      "On test set:\n",
      "Accuracy: 0.9982456140350877\n",
      "Precision: 1.0\n",
      "Recall: 0.8\n",
      "AUC score: 0.9\n",
      "Confusion matrix:\n",
      "[[565   0]\n",
      " [  1   4]]\n",
      "--------------End of valuation----------------\n"
     ]
    }
   ],
   "source": [
    "from sklearn.ensemble import GradientBoostingClassifier\n",
    "clf = GradientBoostingClassifier(n_estimators=1000, learning_rate=1.0, max_depth=2, random_state=0).fit(train_X, train_Y)\n",
    "\n",
    "evaluate(clf)"
   ]
  },
  {
   "cell_type": "markdown",
   "metadata": {},
   "source": [
    "### Neural networks"
   ]
  },
  {
   "cell_type": "code",
   "execution_count": 17,
   "metadata": {},
   "outputs": [],
   "source": [
    "#Maybe tensorflow??"
   ]
  },
  {
   "cell_type": "markdown",
   "metadata": {},
   "source": [
    "## Output for poster"
   ]
  },
  {
   "cell_type": "code",
   "execution_count": 18,
   "metadata": {},
   "outputs": [],
   "source": [
    "\n",
    "#plt.savefig('yourfilename.pdf')"
   ]
  }
 ],
 "metadata": {
  "kernelspec": {
   "display_name": "Python 3",
   "language": "python",
   "name": "python3"
  },
  "language_info": {
   "codemirror_mode": {
    "name": "ipython",
    "version": 3
   },
   "file_extension": ".py",
   "mimetype": "text/x-python",
   "name": "python",
   "nbconvert_exporter": "python",
   "pygments_lexer": "ipython3",
   "version": "3.7.3"
  }
 },
 "nbformat": 4,
 "nbformat_minor": 2
}
